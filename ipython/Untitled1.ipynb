{
 "cells": [
  {
   "cell_type": "code",
   "execution_count": 17,
   "metadata": {
    "collapsed": false
   },
   "outputs": [
    {
     "name": "stdout",
     "output_type": "stream",
     "text": [
      "Using matplotlib backend: MacOSX\n",
      "Populating the interactive namespace from numpy and matplotlib\n"
     ]
    }
   ],
   "source": [
    "%pylab"
   ]
  },
  {
   "cell_type": "code",
   "execution_count": 25,
   "metadata": {
    "collapsed": false
   },
   "outputs": [
    {
     "ename": "ImportError",
     "evalue": "No module named Diego.LogisticRegression.py",
     "output_type": "error",
     "traceback": [
      "\u001b[0;31m---------------------------------------------------------------------------\u001b[0m",
      "\u001b[0;31mImportError\u001b[0m                               Traceback (most recent call last)",
      "\u001b[0;32m<ipython-input-25-981a8dff6166>\u001b[0m in \u001b[0;36m<module>\u001b[0;34m()\u001b[0m\n\u001b[1;32m      1\u001b[0m \u001b[0;32mimport\u001b[0m \u001b[0mmatplotlib\u001b[0m\u001b[0;34m.\u001b[0m\u001b[0mpyplot\u001b[0m \u001b[0;32mas\u001b[0m \u001b[0mplt\u001b[0m\u001b[0;34m\u001b[0m\u001b[0m\n\u001b[0;32m----> 2\u001b[0;31m \u001b[0;32mimport\u001b[0m \u001b[0mDiego\u001b[0m\u001b[0;34m.\u001b[0m\u001b[0mLogisticRegression\u001b[0m\u001b[0;34m.\u001b[0m\u001b[0mpy\u001b[0m\u001b[0;34m\u001b[0m\u001b[0m\n\u001b[0m\u001b[1;32m      3\u001b[0m \u001b[0;32mimport\u001b[0m \u001b[0mtheano\u001b[0m\u001b[0;34m\u001b[0m\u001b[0m\n\u001b[1;32m      4\u001b[0m \u001b[0;32mimport\u001b[0m \u001b[0mtheano\u001b[0m\u001b[0;34m.\u001b[0m\u001b[0mtensor\u001b[0m \u001b[0;32mas\u001b[0m \u001b[0mT\u001b[0m\u001b[0;34m\u001b[0m\u001b[0m\n\u001b[1;32m      5\u001b[0m \u001b[0;32mimport\u001b[0m \u001b[0mtheano\u001b[0m\u001b[0;34m.\u001b[0m\u001b[0mtensor\u001b[0m\u001b[0;34m.\u001b[0m\u001b[0mnnet\u001b[0m \u001b[0;32mas\u001b[0m \u001b[0mnnet\u001b[0m\u001b[0;34m\u001b[0m\u001b[0m\n",
      "\u001b[0;31mImportError\u001b[0m: No module named Diego.LogisticRegression.py"
     ]
    }
   ],
   "source": [
    "import matplotlib.pyplot as plt\n",
    "import Diego.LogisticRegression.py\n",
    "import theano\n",
    "import theano.tensor as T\n",
    "import theano.tensor.nnet as nnet\n",
    "import numpy as np\n",
    "import six.moves.cPickle as pickle\n",
    "from Diego.unpickle import unpickle"
   ]
  },
  {
   "cell_type": "code",
   "execution_count": 7,
   "metadata": {
    "collapsed": false
   },
   "outputs": [
    {
     "data": {
      "text/plain": [
       "array([[1, 2],\n",
       "       [2, 3]])"
      ]
     },
     "execution_count": 7,
     "metadata": {},
     "output_type": "execute_result"
    }
   ],
   "source": [
    "x = np.array([[1,2],[2,3]])\n",
    "x\n"
   ]
  },
  {
   "cell_type": "code",
   "execution_count": 15,
   "metadata": {
    "collapsed": false
   },
   "outputs": [
    {
     "ename": "NameError",
     "evalue": "name 'unpickle' is not defined",
     "output_type": "error",
     "traceback": [
      "\u001b[0;31m---------------------------------------------------------------------------\u001b[0m",
      "\u001b[0;31mNameError\u001b[0m                                 Traceback (most recent call last)",
      "\u001b[0;32m<ipython-input-15-95a2eccb04aa>\u001b[0m in \u001b[0;36m<module>\u001b[0;34m()\u001b[0m\n\u001b[0;32m----> 1\u001b[0;31m \u001b[0mdata_batch_1\u001b[0m \u001b[0;34m=\u001b[0m \u001b[0munpickle\u001b[0m\u001b[0;34m(\u001b[0m\u001b[0;34m'cifar-10-batches-py/data_batch_1'\u001b[0m\u001b[0;34m)\u001b[0m\u001b[0;34m\u001b[0m\u001b[0m\n\u001b[0m\u001b[1;32m      2\u001b[0m \u001b[0mdata_batch_2\u001b[0m \u001b[0;34m=\u001b[0m \u001b[0munpickle\u001b[0m\u001b[0;34m(\u001b[0m\u001b[0;34m'cifar-10-batches-py/data_batch_2'\u001b[0m\u001b[0;34m)\u001b[0m\u001b[0;34m\u001b[0m\u001b[0m\n\u001b[1;32m      3\u001b[0m \u001b[0mdata_batch_3\u001b[0m \u001b[0;34m=\u001b[0m \u001b[0munpickle\u001b[0m\u001b[0;34m(\u001b[0m\u001b[0;34m'cifar-10-batches-py/data_batch_3'\u001b[0m\u001b[0;34m)\u001b[0m\u001b[0;34m\u001b[0m\u001b[0m\n\u001b[1;32m      4\u001b[0m \u001b[0mdata_batch_4\u001b[0m \u001b[0;34m=\u001b[0m \u001b[0munpickle\u001b[0m\u001b[0;34m(\u001b[0m\u001b[0;34m'cifar-10-batches-py/data_batch_4'\u001b[0m\u001b[0;34m)\u001b[0m\u001b[0;34m\u001b[0m\u001b[0m\n\u001b[1;32m      5\u001b[0m \u001b[0mdata_batch_5\u001b[0m \u001b[0;34m=\u001b[0m \u001b[0munpickle\u001b[0m\u001b[0;34m(\u001b[0m\u001b[0;34m'cifar-10-batches-py/data_batch_5'\u001b[0m\u001b[0;34m)\u001b[0m\u001b[0;34m\u001b[0m\u001b[0m\n",
      "\u001b[0;31mNameError\u001b[0m: name 'unpickle' is not defined"
     ]
    }
   ],
   "source": [
    "data_batch_1 = unpickle('cifar-10-batches-py/data_batch_1')\n",
    "data_batch_2 = unpickle('cifar-10-batches-py/data_batch_2')\n",
    "data_batch_3 = unpickle('cifar-10-batches-py/data_batch_3')\n",
    "data_batch_4 = unpickle('cifar-10-batches-py/data_batch_4')\n",
    "data_batch_5 = unpickle('cifar-10-batches-py/data_batch_5')\n",
    "test = unpickle('cifar-10-batches-py/test_batch')\n",
    "\n",
    "train_set_1 = data_batch_1[\"data\"]\n",
    "train_set_2 = data_batch_2[\"data\"]\n",
    "train_set_3 = data_batch_3[\"data\"]\n",
    "train_set_4 = data_batch_4[\"data\"]\n",
    "train_set_5 = data_batch_5[\"data\"]\n",
    "X_train = np.concatenate((train_set_1, train_set_2, train_set_3, train_set_4, train_set_5), axis=0)\n",
    "\n",
    "y_train = np.concatenate((data_batch_1[\"labels\"],data_batch_2[\"labels\"],data_batch_3[\"labels\"],data_batch_4[\"labels\"],\n",
    "                          data_batch_5[\"labels\"]))\n",
    "\n",
    "\n",
    "\n",
    "test_set = test[\"data\"]\n",
    "Xte_rows = test_set.reshape(train_set_1.shape[0], 32 * 32 * 3)\n",
    "Yte = np.asarray(test[\"labels\"])\n",
    "\n",
    "\n",
    "Xval_rows = X_train[:7500, :] # take first 1000 for validation\n",
    "Yval = y_train[:7500]\n",
    "Xtr_rows = X_train[7500:50000, :] # keep last 49,000 for train\n",
    "Ytr = y_train[7500:50000]\n",
    "\n",
    "\n",
    "mean_train = Xtr_rows.mean(axis=0)\n",
    "stdv_train = Xte_rows.std(axis=0)\n",
    "Xtr_rows = (Xtr_rows - mean_train) / stdv_train\n",
    "Xval_rows = (Xval_rows - mean_train) / stdv_train\n",
    "Xte_rows = (Xte_rows - mean_train) / stdv_train\n",
    "\n",
    "train_set = (Xtr_rows,Ytr)\n",
    "valid_set = (Xval_rows,Yval)\n",
    "test_set = (Xte_rows,Yte)\n"
   ]
  },
  {
   "cell_type": "code",
   "execution_count": 14,
   "metadata": {
    "collapsed": false
   },
   "outputs": [
    {
     "name": "stdout",
     "output_type": "stream",
     "text": [
      "CONTRIBUTING.md  README.rst       \u001b[34mscripts\u001b[m\u001b[m/         \u001b[34mtools\u001b[m\u001b[m/\r\n",
      "COPYING.rst      Untitled.ipynb   \u001b[31msetup.py\u001b[m\u001b[m*        tox.ini\r\n",
      "Dockerfile       Untitled1.ipynb  setupbase.py\r\n",
      "\u001b[34mIPython\u001b[m\u001b[m/         \u001b[34mdocs\u001b[m\u001b[m/            \u001b[31msetupegg.py\u001b[m\u001b[m*\r\n",
      "MANIFEST.in      \u001b[34mexamples\u001b[m\u001b[m/        \u001b[34msetupext\u001b[m\u001b[m/\r\n"
     ]
    }
   ],
   "source": [
    "ls"
   ]
  },
  {
   "cell_type": "code",
   "execution_count": null,
   "metadata": {
    "collapsed": true
   },
   "outputs": [],
   "source": []
  }
 ],
 "metadata": {
  "kernelspec": {
   "display_name": "Python 2",
   "language": "python",
   "name": "python2"
  },
  "language_info": {
   "codemirror_mode": {
    "name": "ipython",
    "version": 2
   },
   "file_extension": ".py",
   "mimetype": "text/x-python",
   "name": "python",
   "nbconvert_exporter": "python",
   "pygments_lexer": "ipython2",
   "version": "2.7.10"
  }
 },
 "nbformat": 4,
 "nbformat_minor": 0
}
